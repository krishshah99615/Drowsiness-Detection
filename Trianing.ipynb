{
  "nbformat": 4,
  "nbformat_minor": 0,
  "metadata": {
    "colab": {
      "name": "Untitled26.ipynb",
      "provenance": [],
      "collapsed_sections": []
    },
    "kernelspec": {
      "name": "python3",
      "display_name": "Python 3"
    },
    "language_info": {
      "name": "python"
    },
    "accelerator": "GPU"
  },
  "cells": [
    {
      "cell_type": "markdown",
      "metadata": {
        "id": "J6SjwEqQmDqa"
      },
      "source": [
        "# Dowload and Load Dataset"
      ]
    },
    {
      "cell_type": "code",
      "metadata": {
        "id": "SCQTKg1InZ6O"
      },
      "source": [
        "from google.colab import files\n",
        "files.upload()\n",
        "!mkdir -p  ~/.kaggle\n",
        "!cp kaggle.json ~/.kaggle/\n",
        "!chmod 600 ~/.kaggle/kaggle.json\n",
        "!kaggle datasets download -d dheerajperumandla/drowsiness-dataset\n",
        "!kaggle datasets download -d adinishad/prediction-images\n",
        "!mkdir drowsiness-dataset\n",
        "!unzip drowsiness-dataset.zip -d drowsiness-dataset\n",
        "!mkdir prediction-images\n",
        "!unzip prediction-images.zip -d prediction-images\n"
      ],
      "execution_count": null,
      "outputs": []
    },
    {
      "cell_type": "markdown",
      "metadata": {
        "id": "nQszg3GtmTKY"
      },
      "source": [
        "# Libraries"
      ]
    },
    {
      "cell_type": "code",
      "metadata": {
        "id": "sf1EsZ7-oepg"
      },
      "source": [
        "import numpy as np # linear algebra\n",
        "import pandas as pd # data processing, CSV file I/O (e.g. pd.read_csv)\n",
        "import os\n",
        "import cv2\n",
        "from tensorflow.keras.layers import Input, Lambda, Dense, Flatten, Conv2D, MaxPooling2D, Dropout\n",
        "from tensorflow.keras.models import Model\n",
        "from tensorflow.keras.models import Sequential\n",
        "from keras.preprocessing.image import ImageDataGenerator\n",
        "import tensorflow as tf\n",
        "from sklearn.preprocessing import LabelBinarizer\n",
        "from tensorflow.keras import Model\n",
        "from tensorflow.keras.applications.vgg16 import VGG16\n",
        "from tensorflow.keras.layers import Dense,Flatten,Conv2D,MaxPool2D,GlobalAveragePooling2D\n",
        "from sklearn.model_selection import train_test_split"
      ],
      "execution_count": 1,
      "outputs": []
    },
    {
      "cell_type": "code",
      "metadata": {
        "colab": {
          "base_uri": "https://localhost:8080/"
        },
        "id": "B4nbrF7poj-Y",
        "outputId": "60ee1154-865e-45fe-a6d7-06aa17a31e64"
      },
      "source": [
        "labels = os.listdir(\"drowsiness-dataset/train\")\n",
        "labels"
      ],
      "execution_count": null,
      "outputs": [
        {
          "output_type": "execute_result",
          "data": {
            "text/plain": [
              "['no_yawn', 'Open', 'Closed', 'yawn']"
            ]
          },
          "metadata": {
            "tags": []
          },
          "execution_count": 3
        }
      ]
    },
    {
      "cell_type": "markdown",
      "metadata": {
        "id": "SxIdM-eHmXf0"
      },
      "source": [
        "# crop faces for yawn n no yawn"
      ]
    },
    {
      "cell_type": "code",
      "metadata": {
        "colab": {
          "base_uri": "https://localhost:8080/"
        },
        "id": "xUj_i0H1pypg",
        "outputId": "b8542e4d-97f5-49b5-be71-a68c6e7bb723"
      },
      "source": [
        "def face_for_yawn(direc=\"drowsiness-dataset/train\", face_cas_path=\"prediction-images/haarcascade_frontalface_default.xml\"):\n",
        "    yaw_no = []\n",
        "    IMG_SIZE = 145\n",
        "    categories = [\"yawn\", \"no_yawn\"]\n",
        "    for category in categories:\n",
        "        path_link = os.path.join(direc, category)\n",
        "        class_num1 = categories.index(category)\n",
        "        print(class_num1)\n",
        "        for image in os.listdir(path_link):\n",
        "            image_array = cv2.imread(os.path.join(path_link, image), cv2.IMREAD_COLOR)\n",
        "            face_cascade = cv2.CascadeClassifier(face_cas_path)\n",
        "            faces = face_cascade.detectMultiScale(image_array, 1.3, 5)\n",
        "            for (x, y, w, h) in faces:\n",
        "                img = cv2.rectangle(image_array, (x, y), (x+w, y+h), (0, 255, 0), 2)\n",
        "                roi_color = img[y:y+h, x:x+w]\n",
        "                resized_array = cv2.resize(roi_color, (IMG_SIZE, IMG_SIZE))\n",
        "                yaw_no.append([resized_array, class_num1])\n",
        "    return yaw_no\n",
        "\n",
        "\n",
        "yawn_no_yawn = face_for_yawn()"
      ],
      "execution_count": null,
      "outputs": [
        {
          "output_type": "stream",
          "text": [
            "0\n",
            "1\n"
          ],
          "name": "stdout"
        }
      ]
    },
    {
      "cell_type": "markdown",
      "metadata": {
        "id": "YBjx5eY-mdWI"
      },
      "source": [
        "# Preproces for Closed n Open"
      ]
    },
    {
      "cell_type": "code",
      "metadata": {
        "colab": {
          "base_uri": "https://localhost:8080/"
        },
        "id": "KL5U7SuzqGYQ",
        "outputId": "4faabf62-2ecc-420a-81d8-238c966e3710"
      },
      "source": [
        "def get_data(dir_path=\"drowsiness-dataset/train/\", face_cas=\"prediction-images/haarcascade_frontalface_default.xml\", eye_cas=\"../input/prediction-images/haarcascade.xml\"):\n",
        "    labels = ['Closed', 'Open']\n",
        "    IMG_SIZE = 145\n",
        "    data = []\n",
        "    for label in labels:\n",
        "        path = os.path.join(dir_path, label)\n",
        "        class_num = labels.index(label)\n",
        "        class_num +=2\n",
        "        print(class_num)\n",
        "        for img in os.listdir(path):\n",
        "            try:\n",
        "                img_array = cv2.imread(os.path.join(path, img), cv2.IMREAD_COLOR)\n",
        "                resized_array = cv2.resize(img_array, (IMG_SIZE, IMG_SIZE))\n",
        "                data.append([resized_array, class_num])\n",
        "            except Exception as e:\n",
        "                print(e)\n",
        "    return data\n",
        "data_train = get_data()"
      ],
      "execution_count": null,
      "outputs": [
        {
          "output_type": "stream",
          "text": [
            "2\n",
            "3\n"
          ],
          "name": "stdout"
        }
      ]
    },
    {
      "cell_type": "markdown",
      "metadata": {
        "id": "fJxydpm_mpdM"
      },
      "source": [
        "# Combine"
      ]
    },
    {
      "cell_type": "code",
      "metadata": {
        "id": "yuMPJAnHqP2p"
      },
      "source": [
        "def append_data():\n",
        "#     total_data = []\n",
        "    yaw_no = face_for_yawn()\n",
        "    data = get_data()\n",
        "    yaw_no.extend(data)\n",
        "    return np.array(yaw_no)\n",
        "new_data = append_data()"
      ],
      "execution_count": null,
      "outputs": []
    },
    {
      "cell_type": "markdown",
      "metadata": {
        "id": "xM26NYbvm19P"
      },
      "source": [
        "# Prepare for training"
      ]
    },
    {
      "cell_type": "code",
      "metadata": {
        "id": "Lb53-siaqVRU"
      },
      "source": [
        "X = []\n",
        "y = []\n",
        "for feature, label in new_data:\n",
        "    X.append(feature)\n",
        "    y.append(label)\n",
        "X = np.array(X)\n",
        "X = X.reshape(-1, 145, 145, 3)\n",
        "\n",
        "label_bin = LabelBinarizer()\n",
        "y = label_bin.fit_transform(y)\n",
        "y = np.array(y)\n",
        "\n",
        "seed = 42\n",
        "test_size = 0.30\n",
        "X_train, X_test, y_train, y_test = train_test_split(X, y, random_state=seed, test_size=test_size)\n",
        "train_generator = ImageDataGenerator(rescale=1/255, zoom_range=0.2, horizontal_flip=True, rotation_range=30)\n",
        "test_generator = ImageDataGenerator(rescale=1/255)\n",
        "\n",
        "train_generator = train_generator.flow(np.array(X_train), y_train, shuffle=False)\n",
        "test_generator = test_generator.flow(np.array(X_test), y_test, shuffle=False)"
      ],
      "execution_count": null,
      "outputs": []
    },
    {
      "cell_type": "markdown",
      "metadata": {
        "id": "WghEZAZ6m30Y"
      },
      "source": [
        "# Model VGG16"
      ]
    },
    {
      "cell_type": "code",
      "metadata": {
        "colab": {
          "base_uri": "https://localhost:8080/"
        },
        "id": "I2q9DXjMRuli",
        "outputId": "33702de5-9387-40a6-b348-8c19fb0f99ac"
      },
      "source": [
        "\n",
        "vgg16_model =VGG16(weights = 'imagenet', include_top = False)\n",
        "x = vgg16_model.output\n",
        "x = GlobalAveragePooling2D()(x)\n",
        "x = Dense(1024, activation='relu')(x)\n",
        "predictions = Dense(4, activation = 'softmax')(x)\n",
        "model = Model(inputs = vgg16_model.input, outputs = predictions)\n",
        "\n",
        "for layer in vgg16_model.layers:\n",
        "  layer.trainable = False\n",
        "model.compile(optimizer = 'adam',loss = 'categorical_crossentropy',metrics = ['accuracy'])"
      ],
      "execution_count": null,
      "outputs": [
        {
          "output_type": "stream",
          "text": [
            "Downloading data from https://storage.googleapis.com/tensorflow/keras-applications/vgg16/vgg16_weights_tf_dim_ordering_tf_kernels_notop.h5\n",
            "58892288/58889256 [==============================] - 1s 0us/step\n"
          ],
          "name": "stdout"
        }
      ]
    },
    {
      "cell_type": "markdown",
      "metadata": {
        "id": "hYcsXs-cm6H3"
      },
      "source": [
        "# Model 2"
      ]
    },
    {
      "cell_type": "code",
      "metadata": {
        "id": "cdZR4SQgq1mg"
      },
      "source": [
        "model = Sequential()\n",
        "\n",
        "model.add(Conv2D(256, (3, 3), activation=\"relu\", input_shape=X_train.shape[1:]))\n",
        "model.add(MaxPooling2D(2, 2))\n",
        "\n",
        "model.add(Conv2D(128, (3, 3), activation=\"relu\"))\n",
        "model.add(MaxPooling2D(2, 2))\n",
        "\n",
        "model.add(Conv2D(64, (3, 3), activation=\"relu\"))\n",
        "model.add(MaxPooling2D(2, 2))\n",
        "\n",
        "model.add(Conv2D(32, (3, 3), activation=\"relu\"))\n",
        "model.add(MaxPooling2D(2, 2))\n",
        "\n",
        "model.add(Flatten())\n",
        "model.add(Dropout(0.5))\n",
        "\n",
        "model.add(Dense(64, activation=\"relu\"))\n",
        "model.add(Dense(4, activation=\"softmax\"))\n",
        "\n",
        "model.compile(loss=\"categorical_crossentropy\", metrics=[\"accuracy\"], optimizer=\"adam\")\n",
        "\n",
        "model.summary()"
      ],
      "execution_count": null,
      "outputs": []
    },
    {
      "cell_type": "code",
      "metadata": {
        "id": "yyrVbOopq3CF"
      },
      "source": [
        "history = model.fit(train_generator, epochs=50, validation_data=test_generator, shuffle=True, validation_steps=len(test_generator))"
      ],
      "execution_count": null,
      "outputs": []
    },
    {
      "cell_type": "markdown",
      "metadata": {
        "id": "NvKF6P8Dm9Qp"
      },
      "source": [
        "# Plot Training"
      ]
    },
    {
      "cell_type": "code",
      "metadata": {
        "colab": {
          "base_uri": "https://localhost:8080/",
          "height": 513
        },
        "id": "0tj8OlSKq5-G",
        "outputId": "d8431251-0fe3-4600-d371-d0b05402629b"
      },
      "source": [
        "import matplotlib.pyplot as plt\n",
        "\n",
        "accuracy = history.history['accuracy']\n",
        "val_accuracy = history.history['val_accuracy']\n",
        "loss = history.history['loss']\n",
        "val_loss = history.history['val_loss']\n",
        "epochs = range(len(accuracy))\n",
        "\n",
        "plt.plot(epochs, accuracy, \"b\", label=\"trainning accuracy\")\n",
        "plt.plot(epochs, val_accuracy, \"r\", label=\"validation accuracy\")\n",
        "plt.legend()\n",
        "plt.show()\n",
        "\n",
        "plt.plot(epochs, loss, \"b\", label=\"trainning loss\")\n",
        "plt.plot(epochs, val_loss, \"r\", label=\"validation loss\")\n",
        "plt.legend()\n",
        "plt.show()"
      ],
      "execution_count": null,
      "outputs": [
        {
          "output_type": "display_data",
          "data": {
            "image/png": "[encoded data removed]",
            "text/plain": [
              "<Figure size 432x288 with 1 Axes>"
            ]
          },
          "metadata": {
            "tags": [],
            "needs_background": "light"
          }
        },
        {
          "output_type": "display_data",
          "data": {
            "image/png": "[encoded data removed]",
            "text/plain": [
              "<Figure size 432x288 with 1 Axes>"
            ]
          },
          "metadata": {
            "tags": [],
            "needs_background": "light"
          }
        }
      ]
    },
    {
      "cell_type": "markdown",
      "metadata": {
        "id": "7tOB0pevm_N4"
      },
      "source": [
        "# Save n Evaluate"
      ]
    },
    {
      "cell_type": "code",
      "metadata": {
        "id": "kygZDssOq8Rk"
      },
      "source": [
        "model.save(\"drowiness_vgg16.h5\")"
      ],
      "execution_count": null,
      "outputs": []
    },
    {
      "cell_type": "code",
      "metadata": {
        "id": "1ww1SAXlq_4L"
      },
      "source": [
        "prediction = np.argmax(model.predict(X_test),axis=1)\n",
        "labels_new = [\"yawn\", \"no_yawn\", \"Closed\", \"Open\"]\n",
        "from sklearn.metrics import classification_report\n",
        "print(classification_report(np.argmax(y_test, axis=1), prediction, target_names=labels_new))"
      ],
      "execution_count": 34,
      "outputs": []
    },
    {
      "cell_type": "markdown",
      "metadata": {
        "id": "3cjLSZu-nF-w"
      },
      "source": [
        "# Preprocess funtion"
      ]
    },
    {
      "cell_type": "code",
      "metadata": {
        "id": "iG9lwQiArEz9"
      },
      "source": [
        "labels_new = [\"yawn\", \"no_yawn\", \"Closed\", \"Open\"]\n",
        "IMG_SIZE = 145\n",
        "def prepare(filepath, face_cas=\"prediction-images/haarcascade_frontalface_default.xml\"):\n",
        "    img_array = cv2.imread(filepath, cv2.IMREAD_COLOR)\n",
        "    img_array = img_array / 255\n",
        "    resized_array = cv2.resize(img_array, (IMG_SIZE, IMG_SIZE))\n",
        "    return resized_array.reshape(-1, IMG_SIZE, IMG_SIZE, 3)\n",
        "\n",
        "model = tf.keras.models.load_model(\"./drowiness_vgg16.h5\")"
      ],
      "execution_count": 38,
      "outputs": []
    },
    {
      "cell_type": "code",
      "metadata": {
        "colab": {
          "base_uri": "https://localhost:8080/"
        },
        "id": "fCE2IQGtrHIG",
        "outputId": "8041af4c-cfd5-4d0c-fda8-cb15bb8dabc9"
      },
      "source": [
        "# prepare(\"../input/drowsiness-dataset/train/no_yawn/1068.jpg\")\n",
        "prediction = model.predict([prepare(\"drowsiness-dataset/train/yawn/10.jpg\")])\n",
        "np.argmax(prediction)"
      ],
      "execution_count": null,
      "outputs": [
        {
          "output_type": "execute_result",
          "data": {
            "text/plain": [
              "0"
            ]
          },
          "metadata": {
            "tags": []
          },
          "execution_count": 33
        }
      ]
    },
    {
      "cell_type": "code",
      "metadata": {
        "colab": {
          "base_uri": "https://localhost:8080/"
        },
        "id": "LWThtpPqrJN-",
        "outputId": "d3a1d69b-5ea0-4f05-dfc5-ac43dd34a96c"
      },
      "source": [
        "prediction = model.predict([prepare(\"drowsiness-dataset/train/Closed/_101.jpg\")])\n",
        "np.argmax(prediction)"
      ],
      "execution_count": null,
      "outputs": [
        {
          "output_type": "execute_result",
          "data": {
            "text/plain": [
              "2"
            ]
          },
          "metadata": {
            "tags": []
          },
          "execution_count": 25
        }
      ]
    },
    {
      "cell_type": "code",
      "metadata": {
        "id": "BMJE_nC9UykV"
      },
      "source": [
        ""
      ],
      "execution_count": null,
      "outputs": []
    }
  ]
}